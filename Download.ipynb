{
  "nbformat": 4,
  "nbformat_minor": 0,
  "metadata": {
    "colab": {
      "provenance": []
    },
    "kernelspec": {
      "name": "python3",
      "display_name": "Python 3"
    },
    "language_info": {
      "name": "python"
    }
  },
  "cells": [
    {
      "cell_type": "markdown",
      "source": [
        "Youtubeを見よう！"
      ],
      "metadata": {
        "id": "YuulfDlO7cxI"
      }
    },
    {
      "cell_type": "code",
      "source": [
        "# @title 一番最初に再生ボタンを押してね！\n",
        "!pip install  yt-dlp\n",
        "from yt_dlp import YoutubeDL\n",
        "from google.colab import files"
      ],
      "metadata": {
        "cellView": "form",
        "id": "Sf-Mq-muEMDb",
        "outputId": "0b9c1efc-03e5-45be-d450-01060fec229b",
        "colab": {
          "base_uri": "https://localhost:8080/"
        }
      },
      "execution_count": 2,
      "outputs": [
        {
          "output_type": "stream",
          "name": "stdout",
          "text": [
          ]
        }
      ]
    },
    {
      "cell_type": "code",
      "execution_count": 3,
      "metadata": {
        "colab": {
          "base_uri": "https://localhost:8080/",
          "height": 173
        },
        "cellView": "form",
        "id": "KOKnXbr96-I_",
        "outputId": "1c303137-6f1c-4f50-a7c0-4bd331fe359a"
      },
      "outputs": [
        {
          "output_type": "stream",
          "name": "stdout",
          "text": [
          ]
        },
        {
          "output_type": "display_data",
          "data": {
            "text/plain": [
              "<IPython.core.display.Javascript object>"
            ],
            "application/javascript": [
              "\n",
              "    async function download(id, filename, size) {\n",
              "      if (!google.colab.kernel.accessAllowed) {\n",
              "        return;\n",
              "      }\n",
              "      const div = document.createElement('div');\n",
              "      const label = document.createElement('label');\n",
              "      label.textContent = `Downloading \"${filename}\": `;\n",
              "      div.appendChild(label);\n",
              "      const progress = document.createElement('progress');\n",
              "      progress.max = size;\n",
              "      div.appendChild(progress);\n",
              "      document.body.appendChild(div);\n",
              "\n",
              "      const buffers = [];\n",
              "      let downloaded = 0;\n",
              "\n",
              "      const channel = await google.colab.kernel.comms.open(id);\n",
              "      // Send a message to notify the kernel that we're ready.\n",
              "      channel.send({})\n",
              "\n",
              "      for await (const message of channel.messages) {\n",
              "        // Send a message to notify the kernel that we're ready.\n",
              "        channel.send({})\n",
              "        if (message.buffers) {\n",
              "          for (const buffer of message.buffers) {\n",
              "            buffers.push(buffer);\n",
              "            downloaded += buffer.byteLength;\n",
              "            progress.value = downloaded;\n",
              "          }\n",
              "        }\n",
              "      }\n",
              "      const blob = new Blob(buffers, {type: 'application/binary'});\n",
              "      const a = document.createElement('a');\n",
              "      a.href = window.URL.createObjectURL(blob);\n",
              "      a.download = filename;\n",
              "      div.appendChild(a);\n",
              "      a.click();\n",
              "      div.remove();\n",
              "    }\n",
              "  "
            ]
          },
          "metadata": {}
        },
        {
          "output_type": "display_data",
          "data": {
            "text/plain": [
              "<IPython.core.display.Javascript object>"
            ],
            "application/javascript": [
              "download(\"download_ce4bc5c3-7478-4849-9794-19bf40a08ea6\", \"\\u30ed\\u30fc\\u30bf\\u30b9\\u30a4\\u30fc\\u30bf\\u30fc\\u29f8\\u9752\\u6817\\u9f20(feat.\\u6b4c\\u611b\\u30e6\\u30ad) [wYmW2-EN2dU].mp4\", 20065669)"
            ]
          },
          "metadata": {}
        }
      ],
      "source": [
        "# @title URLを入力して、左の再生ボタンを押してね！\n",
        "URL = \"\"#@param {type:\"string\"}\n",
        "\n",
        "with YoutubeDL({\"format\":\"best\"}) as ydl:\n",
        "    info = ydl.extract_info(URL)\n",
        "files.download(info[\"requested_downloads\"][0][\"filename\"])"
      ]
    }
  ]
}
